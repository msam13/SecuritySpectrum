{
  "nbformat": 4,
  "nbformat_minor": 0,
  "metadata": {
    "colab": {
      "provenance": []
    },
    "kernelspec": {
      "name": "python3",
      "display_name": "Python 3"
    },
    "language_info": {
      "name": "python"
    }
  },
  "cells": [
    {
      "cell_type": "code",
      "execution_count": 2,
      "metadata": {
        "colab": {
          "base_uri": "https://localhost:8080/"
        },
        "id": "YMiJl_iOjGEZ",
        "outputId": "b5682a0f-3fef-4af4-e7b6-9c9ee4b3f278"
      },
      "outputs": [
        {
          "output_type": "stream",
          "name": "stdout",
          "text": [
            "Looking in indexes: https://pypi.org/simple, https://us-python.pkg.dev/colab-wheels/public/simple/\n",
            "Collecting z3-solver\n",
            "  Downloading z3_solver-4.12.1.0-py2.py3-none-manylinux1_x86_64.whl (56.0 MB)\n",
            "\u001b[2K     \u001b[90m━━━━━━━━━━━━━━━━━━━━━━━━━━━━━━━━━━━━━━━━\u001b[0m \u001b[32m56.0/56.0 MB\u001b[0m \u001b[31m13.6 MB/s\u001b[0m eta \u001b[36m0:00:00\u001b[0m\n",
            "\u001b[?25hInstalling collected packages: z3-solver\n",
            "Successfully installed z3-solver-4.12.1.0\n"
          ]
        }
      ],
      "source": [
        "pip install z3-solver"
      ]
    },
    {
      "cell_type": "code",
      "source": [
        "from z3 import *\n",
        "s = Solver()\n",
        "t = BitVec('t', 32)\n",
        "sqrt = BitVec('sqrt', 32)\n",
        "s.add(t>0)\n",
        "s.add(sqrt == t*t)\n",
        "s.add(sqrt < 0)\n",
        "print(s.check())\n",
        "print(s.model())\n"
      ],
      "metadata": {
        "colab": {
          "base_uri": "https://localhost:8080/"
        },
        "id": "rS_hgCozjNQS",
        "outputId": "13185000-753b-498a-881f-d7196d1f88bb"
      },
      "execution_count": 13,
      "outputs": [
        {
          "output_type": "stream",
          "name": "stdout",
          "text": [
            "sat\n",
            "[t = 1341651969, sqrt = 3758094337]\n"
          ]
        }
      ]
    },
    {
      "cell_type": "code",
      "source": [
        "from z3 import *\n",
        "\n",
        "s = Solver()\n",
        "t = BitVec('t', 32)\n",
        "ex = Or(t>0, (t-1)<0)\n",
        "s.add(Not(ex))\n",
        "print(s.check())\n",
        "if(s.check() == sat):\n",
        "  print(s.model())"
      ],
      "metadata": {
        "colab": {
          "base_uri": "https://localhost:8080/"
        },
        "id": "szhq__MPj8Z9",
        "outputId": "b2d6f92f-d6a1-4928-ffc1-4bf623114d51"
      },
      "execution_count": 11,
      "outputs": [
        {
          "output_type": "stream",
          "name": "stdout",
          "text": [
            "sat\n",
            "[t = 2147483648]\n"
          ]
        }
      ]
    },
    {
      "cell_type": "code",
      "source": [
        "from z3 import *\n",
        "\n",
        "s = Solver()\n",
        "t = BitVec('t', 32)\n",
        "ex = Or((t&7)!=7, (t<<29) < 0)\n",
        "s.add(Not(ex))\n",
        "print(s.check())\n",
        "if(s.check() == sat):\n",
        "  print(s.model())\n"
      ],
      "metadata": {
        "colab": {
          "base_uri": "https://localhost:8080/"
        },
        "id": "KgVgrf29rGZ8",
        "outputId": "ba7e0d45-aad1-4489-a8b5-eecbd06fec3b"
      },
      "execution_count": 12,
      "outputs": [
        {
          "output_type": "stream",
          "name": "stdout",
          "text": [
            "unsat\n"
          ]
        }
      ]
    }
  ]
}